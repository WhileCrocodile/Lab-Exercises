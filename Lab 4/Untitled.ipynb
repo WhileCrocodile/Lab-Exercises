{
 "cells": [
  {
   "cell_type": "markdown",
   "id": "e2c9d339",
   "metadata": {},
   "source": [
    "* Isolate the title, the date of release, and one other element of your choosing. (3pts) \n",
    "* Put the data into a csv. (2pts)\n",
    "\n",
    "We grabbed the title, date of release, and rating.\n",
    "We saved our data into imdb_movies.csv."
   ]
  },
  {
   "cell_type": "code",
   "execution_count": null,
   "id": "db589824",
   "metadata": {},
   "outputs": [],
   "source": [
    "from bs4 import BeautifulSoup\n",
    "import requests\n",
    "import html5lib\n",
    "import csv\n",
    "\n",
    "imbd = requests.get(\"https://www.imdb.com/list/ls055592025/\").text\n",
    "soup = BeautifulSoup(imbd, \"lxml\")\n",
    "\n",
    "csv_file = open(\"imbd_movies.csv\", \"w\", newline=\"\", encoding=\"utf-8\")\n",
    "csv_writer = csv.writer(csv_file)\n",
    "csv_writer.writerow([\"title\", \"year of release\", \"rating\"])\n",
    "\n",
    "for movie in soup.find_all(\"div\", class_=\"lister-item mode-detail\"):\n",
    "    title = movie.find(\"h3\", class_=\"lister-item-header\").a.text\n",
    "    released = movie.find(\"span\", class_=\"lister-item-year text-muted unbold\").text[1:5] #gets rid of parentheses\n",
    "    rating = movie.find(\"span\", class_=\"ipl-rating-star__rating\").text\n",
    "    csv_writer.writerow([title, released, rating])\n",
    "\n",
    "csv_file.close()"
   ]
  },
  {
   "cell_type": "markdown",
   "id": "f162901b",
   "metadata": {},
   "source": [
    "* Scrape the first 5 pages, grab the title, item description, and webpage hyperlink. (3pts) \n",
    "* Put the data into a csv. (2pts)\n",
    "* Bonus 2pts: figure out how to isolate the contributor name & item date\n",
    "\n",
    "We scraped the first five pages to find the title, item description, and webpage hyperlink.\n",
    "We saved our data into congress_cats.csv.\n",
    "We isolated the contributor name and item date (when they existed)."
   ]
  },
  {
   "cell_type": "code",
   "execution_count": null,
   "id": "3ad677f0",
   "metadata": {},
   "outputs": [],
   "source": [
    "from bs4 import BeautifulSoup\n",
    "import requests\n",
    "import html5lib\n",
    "import csv\n",
    "\n",
    "csv_file = open(\"congress_cats.csv\", \"w\", newline=\"\", encoding=\"utf-8\")\n",
    "csv_writer = csv.writer(csv_file)\n",
    "csv_writer.writerow([\"title\", \"item description\", \"hyperlink\", \"contributor\", \"date\"])\n",
    "\n",
    "pages = 5\n",
    "\n",
    "for page_num in range (1, pages+1):\n",
    "    congress = requests.get(f\"https://www.loc.gov/search/?q=cats&sp={page_num}\").text\n",
    "    soup = BeautifulSoup(congress, \"lxml\")\n",
    "    \n",
    "    for item in soup.find_all(\"li\", class_=\"item\"):\n",
    "        # These are the two straightforward elements to find\n",
    "        title = item.find(\"span\", class_=\"item-description-title\").a.text.strip()\n",
    "        hyperlink = item.find(\"span\", class_=\"item-description-title\").a[\"href\"].strip()\n",
    "        \n",
    "        # These elements may or may not exist\n",
    "        try:\n",
    "            description = item.find(\"span\", class_=\"item-description-abstract\").text.strip()\n",
    "        except:\n",
    "            description = \"N/A\"\n",
    "        \n",
    "        try:\n",
    "            date = item.find(\"li\", class_=\"date\").span.text.strip(\": \")\n",
    "        except:\n",
    "            date = \"N/A\"\n",
    "        \n",
    "        try:\n",
    "            contributor = item.find(\"li\", class_=\"contributor\").span.text.strip()\n",
    "        except:\n",
    "            contributor = \"N/A\"\n",
    "        \n",
    "        \n",
    "        csv_writer.writerow([title, description, hyperlink, contributor, date])\n",
    "        print(title, description, hyperlink)\n",
    "\n",
    "csv_file.close()"
   ]
  }
 ],
 "metadata": {
  "kernelspec": {
   "display_name": "Python 3 (ipykernel)",
   "language": "python",
   "name": "python3"
  },
  "language_info": {
   "codemirror_mode": {
    "name": "ipython",
    "version": 3
   },
   "file_extension": ".py",
   "mimetype": "text/x-python",
   "name": "python",
   "nbconvert_exporter": "python",
   "pygments_lexer": "ipython3",
   "version": "3.9.13"
  }
 },
 "nbformat": 4,
 "nbformat_minor": 5
}
